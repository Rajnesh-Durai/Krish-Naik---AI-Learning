{
 "cells": [
  {
   "cell_type": "code",
   "execution_count": 1,
   "id": "935a5e08",
   "metadata": {},
   "outputs": [
    {
     "name": "stdout",
     "output_type": "stream",
     "text": [
      "Alice\n",
      "Bob\n"
     ]
    }
   ],
   "source": [
    "## Python is case sensitive\n",
    "\n",
    "name = \"Alice\"\n",
    "Name = \"Bob\"\n",
    "\n",
    "print(name)  # Output: Alice\n",
    "print(Name)  # Output: Bob"
   ]
  },
  {
   "cell_type": "code",
   "execution_count": 2,
   "id": "2d3d854a",
   "metadata": {},
   "outputs": [
    {
     "name": "stdout",
     "output_type": "stream",
     "text": [
      "15\n"
     ]
    }
   ],
   "source": [
    "## To perform multiple operations on a single line, you can use a semicolon\n",
    "x = 5; y = 10; z = x + y;\n",
    "print(z)  # Output: 15"
   ]
  },
  {
   "cell_type": "code",
   "execution_count": 3,
   "id": "1ebbdfc9",
   "metadata": {},
   "outputs": [
    {
     "name": "stdout",
     "output_type": "stream",
     "text": [
      "<class 'int'>\n",
      "<class 'str'>\n"
     ]
    }
   ],
   "source": [
    "## Type Inference allows you to assign a value without explicitly declaring its type\n",
    "variable = 42\n",
    "print(type(variable))  # Output: <class 'int'>\n",
    "variable = \"Hello, World!\"\n",
    "print(type(variable))  # Output: <class 'str'>"
   ]
  },
  {
   "cell_type": "code",
   "execution_count": 4,
   "id": "9a6a2592",
   "metadata": {},
   "outputs": [
    {
     "name": "stdout",
     "output_type": "stream",
     "text": [
      "<class 'str'>\n",
      "<class 'int'>\n"
     ]
    }
   ],
   "source": [
    "age = input(\"Enter your age: \") ## int(input(\"Enter your age: \")) will convert input to integer directly\n",
    "print(type(age))  # Output: <class 'str'> (input is always a string)\n",
    "\n",
    "## input will defaultly return a string, so you may need to convert it\n",
    "age = int(age)  # Convert to integer\n",
    "print(type(age))  # Output: <class 'int'> (after conversion)"
   ]
  },
  {
   "cell_type": "code",
   "execution_count": 5,
   "id": "cb9a0881",
   "metadata": {},
   "outputs": [
    {
     "data": {
      "text/plain": [
       "True"
      ]
     },
     "execution_count": 5,
     "metadata": {},
     "output_type": "execute_result"
    }
   ],
   "source": [
    "bool() \n",
    "a = 5; b=10\n",
    "bool(a > b)  # Output: False\n",
    "bool(a < b)  # Output: True"
   ]
  },
  {
   "cell_type": "markdown",
   "id": "5dbdcf6b",
   "metadata": {},
   "source": [
    "\n",
    "python vs C# on memory management\n",
    "Python: All the objects are stored in heap memory, and its instance will be called in stack memory by creating a frame, \n",
    "Eg. even int/bool/string its object will be craeted in Heap and its instance will be used in stack during execution.\n",
    "\n",
    "C#: \n",
    "Value types: int, bool, double, struct → Stored in stack AND\n",
    "Reference types: string, class, object, array → Stored in heap\n"
   ]
  },
  {
   "cell_type": "code",
   "execution_count": null,
   "id": "5f20c636",
   "metadata": {},
   "outputs": [
    {
     "name": "stdout",
     "output_type": "stream",
     "text": [
      "15\n",
      "<class 'int'>\n",
      "John\n",
      "<class 'str'>\n"
     ]
    }
   ],
   "source": [
    "## Python is a dynamically typed language, meaning you can change the type of a variable at any time\n",
    "\n",
    "name = 15\n",
    "print(name)  # Output: 15 (name is now an integer)\n",
    "print(type(name))  # Output: <class 'int'> (name is now an integer)\n",
    "\n",
    "name = \"John\"\n",
    "print(name)  # Output: John (name is now a string)\n",
    "print(type(name))  # Output: <class 'str'> (name is now a string"
   ]
  },
  {
   "cell_type": "code",
   "execution_count": null,
   "id": "fd52228e",
   "metadata": {},
   "outputs": [
    {
     "name": "stdout",
     "output_type": "stream",
     "text": [
      "Addition: 18\n",
      "Subtraction: 12\n",
      "Multiplication: 45\n",
      "Division: 5.0\n",
      "Floor Division: 5\n",
      "Modulus: 0\n"
     ]
    }
   ],
   "source": [
    "## Calculator\n",
    "\n",
    "a= 15; b= 3;\n",
    "\n",
    "add = a + b\n",
    "sub = a - b\n",
    "multiply = a * b\n",
    "divide = a / b\n",
    "floorDivide = a // b\n",
    "modulus = a % b\n",
    "power = a ** b\n",
    "\n",
    "print(\"Addition:\", add)  # Output: Addition: 18\n",
    "print(\"Subtraction:\", sub)  # Output: Subtraction: 12\n",
    "print(\"Multiplication:\", multiply)  # Output: Multiplication: 45\n",
    "print(\"Division:\", divide)  # Output: Division: 5.0\n",
    "print(\"Floor Division:\", floorDivide)  # Output: Floor Division: 5\n",
    "print(\"Modulus:\", modulus)  # Output: Modulus: 0\n",
    "print(\"Power:\", power)  # Output: Power: 3375"
   ]
  },
  {
   "cell_type": "markdown",
   "id": "d59d9949",
   "metadata": {},
   "source": [
    "Bitwise Operators"
   ]
  },
  {
   "cell_type": "code",
   "execution_count": null,
   "id": "8d697bfc",
   "metadata": {},
   "outputs": [],
   "source": [
    "num1 = 2; num2 = 2;\n",
    "\n",
    "print(num1 & num2)\n",
    "print(num1 | num2)\n",
    "print(not num2)\n",
    "print(num1 ^ num2)"
   ]
  },
  {
   "cell_type": "markdown",
   "id": "bbe120ce",
   "metadata": {},
   "source": [
    "If Elif and Else"
   ]
  },
  {
   "cell_type": "code",
   "execution_count": 19,
   "id": "77ac2e26",
   "metadata": {},
   "outputs": [
    {
     "name": "stdout",
     "output_type": "stream",
     "text": [
      "Age is greater than age2\n"
     ]
    }
   ],
   "source": [
    "age = 76\n",
    "age2 = 45\n",
    "\n",
    "if (age > age2 and age > 40):\n",
    "    print(\"Age is greater than age2\")\n",
    "elif (age < age2):\n",
    "    print(\"Age is less than age2\")\n",
    "else:\n",
    "    print(\"Age is equal to age2\")"
   ]
  },
  {
   "cell_type": "markdown",
   "id": "44e42162",
   "metadata": {},
   "source": [
    "For Loop with Range"
   ]
  },
  {
   "cell_type": "code",
   "execution_count": null,
   "id": "ca5460d8",
   "metadata": {},
   "outputs": [],
   "source": [
    "for i in range(5):\n",
    "    print(i)  # Output: 0, 1, 2, 3, 4\n",
    "\n",
    "for i in range(1, 6):\n",
    "    print(i)  # Output: 1, 2, 3, 4, 5"
   ]
  },
  {
   "cell_type": "code",
   "execution_count": null,
   "id": "2982a638",
   "metadata": {},
   "outputs": [],
   "source": [
    "for i in range(1,11,2):\n",
    "    print(i)  # Output: 1, 3, 5, 7, 9"
   ]
  },
  {
   "cell_type": "code",
   "execution_count": null,
   "id": "fe2235e0",
   "metadata": {},
   "outputs": [],
   "source": [
    "name = \"Rajnesh\"\n",
    "\n",
    "for i in name:\n",
    "    print(i)  # Output: R, a, j, n, e, s, h"
   ]
  },
  {
   "cell_type": "markdown",
   "id": "b0fc0db0",
   "metadata": {},
   "source": [
    "ENUMERATE IN FOR LOOPS"
   ]
  },
  {
   "cell_type": "code",
   "execution_count": null,
   "id": "4a21f6ff",
   "metadata": {},
   "outputs": [],
   "source": [
    "## Enumerate Example\n",
    "name = \"Rajnesh\"\n",
    "for char, index in enumerate(name):\n",
    "    print(f\"Character: {char}, Index: {index}\")  # Output: Character: R, Index: 0, etc.\n",
    "\n",
    "for char, index in enumerate(name, start = 10):\n",
    "    print(f\"Character: {char}, Index: {index}\")  # Output: Character: R, Index: 0, etc."
   ]
  },
  {
   "cell_type": "markdown",
   "id": "034b88ad",
   "metadata": {},
   "source": [
    "List - Is a collection can have different data types"
   ]
  },
  {
   "cell_type": "code",
   "execution_count": null,
   "id": "e0b12796",
   "metadata": {},
   "outputs": [],
   "source": [
    "list_of_names = [\"Alice\", \"Bob\", \"Charlie\"]\n",
    "\n",
    "for index, string in enumerate(list_of_names):\n",
    "    print(f\"Index: {index}, Name: {string}\")  # Output: Index: 0, Name: Alice, etc.\n",
    "    for index, char in enumerate(string):\n",
    "        print(f\"Index: {index}, Name: {char}\")  # Output: Index: 1, Name: Alice, etc."
   ]
  },
  {
   "cell_type": "code",
   "execution_count": null,
   "id": "1431eefd",
   "metadata": {},
   "outputs": [],
   "source": [
    "empty_list = list()  # Creating an empty list\n",
    "print(type(empty_list))  # Output: <class 'list'> (an empty list)"
   ]
  },
  {
   "cell_type": "code",
   "execution_count": null,
   "id": "b51a6151",
   "metadata": {},
   "outputs": [],
   "source": [
    "fruits = [\"apple\", \"banana\", \"cherry\"]\n",
    "\n",
    "fruits.append(\"orange\")  # Add an item to the end of the list\n",
    "print(fruits)  # Output: ['apple', 'banana', 'cherry', 'orange']\n",
    "\n",
    "fruits.insert(1, \"kiwi\")  # Insert an item at a specific position\n",
    "print(fruits)  # Output: ['apple', 'kiwi', 'banana', 'cherry', 'orange']"
   ]
  },
  {
   "cell_type": "code",
   "execution_count": null,
   "id": "2003f30a",
   "metadata": {},
   "outputs": [],
   "source": [
    "fruits.sort()  # Sort the list in ascending order\n",
    "fruits.reverse()  # Reverse the order of the list\n",
    "fruits.clear()  # Clear all items from the list\n",
    "print(fruits)  # Output: []"
   ]
  },
  {
   "cell_type": "markdown",
   "id": "93e5bdc4",
   "metadata": {},
   "source": [
    "List Comprehension -> Dynamically using list which optimize memory"
   ]
  },
  {
   "cell_type": "code",
   "execution_count": null,
   "id": "ee8325bd",
   "metadata": {},
   "outputs": [],
   "source": [
    "sqr_list = [x**2 for x in range(11)]\n",
    "\n",
    "even_num = [x for x in range(11) if x % 2 == 0]  # This line has a syntax error, it should be corrected to:"
   ]
  },
  {
   "cell_type": "markdown",
   "id": "3a90bfef",
   "metadata": {},
   "source": [
    "SETS -> Similar to HashSet"
   ]
  },
  {
   "cell_type": "code",
   "execution_count": 31,
   "id": "6c19bde1",
   "metadata": {},
   "outputs": [
    {
     "name": "stdout",
     "output_type": "stream",
     "text": [
      "<class 'set'>\n"
     ]
    }
   ],
   "source": [
    "sets = set();\n",
    "\n",
    "print(type(sets))  # Output: set() (an empty set)"
   ]
  },
  {
   "cell_type": "code",
   "execution_count": null,
   "id": "606706f5",
   "metadata": {},
   "outputs": [
    {
     "name": "stdout",
     "output_type": "stream",
     "text": [
      "{1, 2, 3, 4, 5}\n",
      "{1, 2, 3, 4, 5}\n",
      "{1, 2, 4, 5}\n"
     ]
    }
   ],
   "source": [
    "sets1 = {1, 2, 3, 4, 5}  # Creating a set with initial values\n",
    "print(sets1)  # Output: {1, 2, 3, 4, 5}\n",
    "\n",
    "sets1.add(5)  # Adding an element to the set\n",
    "print(sets1)  # Output: {5} (if 5 was not already in the set)\n",
    "\n",
    "sets1.remove(3)  # Removing an element from the set\n",
    "print(sets1)  # Output: {1, 2, 4, 5} (3 is removed)"
   ]
  },
  {
   "cell_type": "code",
   "execution_count": null,
   "id": "b0bcfde4",
   "metadata": {},
   "outputs": [],
   "source": [
    "sets.add('r')  # Add an item to the set\n",
    "print(sets)  # Output: {'r'} (if 'r' was not already in the set)\n",
    "\n",
    "sets.pop()\n",
    "print(sets)  # Output: set() (removes and returns an arbitrary element from the set)\n",
    "\n",
    "for i in sets1:\n",
    "    print(i)  # Output: 1, 2, 4, 5 (iterating through the set)"
   ]
  },
  {
   "cell_type": "markdown",
   "id": "15096e2b",
   "metadata": {},
   "source": [
    "Dictionary - Key Value Pair\n",
    "\n",
    "Keys are unique and are immutable where as values are mutable"
   ]
  },
  {
   "cell_type": "code",
   "execution_count": null,
   "id": "42482a18",
   "metadata": {},
   "outputs": [
    {
     "name": "stdout",
     "output_type": "stream",
     "text": [
      "{'one': 1, 'two': 2, 'three': 3}\n",
      "1\n",
      "2\n",
      "Key: one, Value: 1\n",
      "Key: two, Value: 2\n",
      "Key: three, Value: 3\n"
     ]
    }
   ],
   "source": [
    "num_dict = {\"one\": 1, \"two\": 2, \"three\": 3}  # Creating a dictionary with key-value pairs\n",
    "print(num_dict)  # Output: {'one': 1, 'two': 2\n",
    "\n",
    "print(num_dict[\"one\"])  # Accessing a value by its key, Output: 1\n",
    "print(num_dict.get(\"two\"))  # Accessing a value using the get method, Output\n"
   ]
  },
  {
   "cell_type": "markdown",
   "id": "a0314743",
   "metadata": {},
   "source": [
    "FOR LOOPS In Dictionary"
   ]
  },
  {
   "cell_type": "code",
   "execution_count": null,
   "id": "7afead59",
   "metadata": {},
   "outputs": [
    {
     "name": "stdout",
     "output_type": "stream",
     "text": [
      "one\n",
      "two\n",
      "three\n"
     ]
    }
   ],
   "source": [
    "for key in num_dict.keys():\n",
    "    print(key)  # Output: one, two, three (iterating through keys)"
   ]
  },
  {
   "cell_type": "code",
   "execution_count": null,
   "id": "b4435f5a",
   "metadata": {},
   "outputs": [
    {
     "name": "stdout",
     "output_type": "stream",
     "text": [
      "1\n",
      "2\n",
      "3\n"
     ]
    }
   ],
   "source": [
    "for values in num_dict.values():\n",
    "    print(values)  # Output: one, two, three (iterating through keys)"
   ]
  },
  {
   "cell_type": "code",
   "execution_count": 48,
   "id": "bdfed02a",
   "metadata": {},
   "outputs": [
    {
     "name": "stdout",
     "output_type": "stream",
     "text": [
      "Key: one, Value: 1\n",
      "Key: two, Value: 2\n",
      "Key: three, Value: 3\n"
     ]
    }
   ],
   "source": [
    "for key, value in num_dict.items():\n",
    "    print(f\"Key: {key}, Value: {value}\")  # Output: Key: one, Value: 1, etc."
   ]
  },
  {
   "cell_type": "code",
   "execution_count": null,
   "id": "e03f86b4",
   "metadata": {},
   "outputs": [],
   "source": [
    "num_dict.pop(\"one\")  # Removing a key-value pair by key\n",
    "print(num_dict)  # Output: {'two': 2, 'three': 3}"
   ]
  },
  {
   "cell_type": "code",
   "execution_count": null,
   "id": "01d2b1f7",
   "metadata": {},
   "outputs": [],
   "source": [
    "## Determine the frequency of each character in a string\n",
    "\n",
    "str1 = \"hello world\"\n",
    "dict_str1 = {};\n",
    "\n",
    "for char in str1:\n",
    "    if char in dict_str1:\n",
    "        dict_str1[char] += 1\n",
    "    else:\n",
    "        dict_str1[char] = 1\n",
    "\n",
    "print(dict_str1)  # Output: {'h': 1, 'e': 1, 'l': 3, 'o': 2, ' ': 1, 'w': 1, 'r': 1, 'd': 1}"
   ]
  },
  {
   "cell_type": "markdown",
   "id": "0f91f4c3",
   "metadata": {},
   "source": [
    "Shallow Copy in Dictionary - Important\n",
    "\n",
    "assigning a dict to another dict -> shares same memory"
   ]
  },
  {
   "cell_type": "code",
   "execution_count": 44,
   "id": "42d918fb",
   "metadata": {},
   "outputs": [
    {
     "name": "stdout",
     "output_type": "stream",
     "text": [
      "{'name': 'Alice', 'age': 78, 'city': 'New York'}\n",
      "{'name': 'Alice', 'age': 78, 'city': 'New York'}\n"
     ]
    }
   ],
   "source": [
    "dict1 = {\"name\": \"Alice\", \"age\": 30, \"city\": \"New York\"}\n",
    "dict2 = dict1 ## direct assignment creates a reference to the same dictionary\n",
    "dict2[\"age\"] = 78  # Modifying dict2 does not affect dict1\n",
    "print(dict1)  # Output: {'name': 'Alice', 'age': 78, 'city': 'New York'}\n",
    "print(dict2)  # Output: {'name': 'Alice', 'age': 78, 'city': 'New York'}"
   ]
  },
  {
   "cell_type": "code",
   "execution_count": null,
   "id": "83be33cf",
   "metadata": {},
   "outputs": [
    {
     "name": "stdout",
     "output_type": "stream",
     "text": [
      "{'name': 'Alice', 'age': 30, 'city': 'New York'}\n",
      "{'name': 'Alice', 'age': 78, 'city': 'New York'}\n"
     ]
    }
   ],
   "source": [
    "## Shallow Copy in Dictionary - Important\n",
    "\n",
    "dict1 = {\"name\": \"Alice\", \"age\": 30, \"city\": \"New York\"}\n",
    "dict2 = dict1.copy() # Shallow copy of dict1\n",
    "dict2[\"age\"] = 78  # Modifying dict2 does not affect dict1\n",
    "print(dict1)  # Output: {'name': 'Alice', 'age': 30, 'city': 'New York'}\n",
    "print(dict2)  # Output: {'name': 'Alice', 'age': 78, 'city': 'New York'}"
   ]
  },
  {
   "cell_type": "markdown",
   "id": "79855bb1",
   "metadata": {},
   "source": [
    "Tuples -  similar to list but they are immutable"
   ]
  },
  {
   "cell_type": "code",
   "execution_count": null,
   "id": "d1411d32",
   "metadata": {},
   "outputs": [],
   "source": [
    "empty_tuple = tuple()  # Creating an empty tuple\n",
    "print(type(empty_tuple))  # Output: <class 'tuple'> (an empty tuple)\n",
    "\n",
    "tpl = (1, 2, 3, 4, 5)  # Creating a tuple with initial values\n",
    "print(tpl)  # Output: (1, 2, 3, 4, 5)\n",
    "\n",
    "tp[0] = 10  # Tuples are immutable, this will raise an error\n",
    "print(tp)  # Output: (1, 2, 3, 4, 5) (unchanged, as tuples cannot be modified)\n",
    "\n",
    "lst = [1, 2, 3, 4, 5]  # Creating a list with initial values\n",
    "tpl_from_list = tuple(lst)  # Converting a list to a tuple\n",
    "print(tpl_from_list)  # Output: (1, 2, 3, 4, 5)"
   ]
  },
  {
   "cell_type": "markdown",
   "id": "5796b97c",
   "metadata": {},
   "source": [
    "Functions"
   ]
  },
  {
   "cell_type": "code",
   "execution_count": null,
   "id": "2e83f15b",
   "metadata": {},
   "outputs": [],
   "source": [
    "def func_name():\n",
    "    print(\"Hello, World!\")  # Function definition\n",
    "\n",
    "func_name()  # Calling the function to execute its code"
   ]
  },
  {
   "cell_type": "code",
   "execution_count": null,
   "id": "2b044de1",
   "metadata": {},
   "outputs": [],
   "source": [
    "print(add(2, 3)) ## it wiil raise an error if the function is not defined before this line\n",
    "\n",
    "def add(a, b):\n",
    "    return a + b  # Function to add two numbers\n",
    "\n",
    "print(add(2, 3)) ## it wiil raise an error if the function is not defined before this line"
   ]
  },
  {
   "cell_type": "code",
   "execution_count": null,
   "id": "3533c880",
   "metadata": {},
   "outputs": [],
   "source": [
    "## for list and dictionary comprehensions\n",
    "\n",
    "def func_name(*args, **kwargs):\n",
    "    print(\"Positional arguments:\", args)  # Function definition with *args\n",
    "    print(\"Keyword arguments:\", kwargs)  # Function definition with **kwargs\n",
    "\n",
    "    for num in args:\n",
    "        print(num)\n",
    "    \n",
    "    for key, value in kwargs.items():\n",
    "        print(f\"Key: {key}, Value: {value}\")\n",
    "\n",
    "\n",
    "func_name(1, 2, 3, name=\"Alice\", age=30)  # Calling the function with positional and keyword arguments"
   ]
  },
  {
   "cell_type": "markdown",
   "id": "e3833da2",
   "metadata": {},
   "source": [
    "Lambda Functions in Python"
   ]
  },
  {
   "cell_type": "code",
   "execution_count": null,
   "id": "e3548a3e",
   "metadata": {},
   "outputs": [],
   "source": [
    "## syntax\n",
    "\n",
    "func_name = lambda arguments : operation  # Lambda function definition"
   ]
  },
  {
   "cell_type": "code",
   "execution_count": null,
   "id": "7b6a8c4d",
   "metadata": {},
   "outputs": [],
   "source": [
    "addition = lambda a, b: a + b  # Lambda function to add two numbers\n",
    "print(addition(5, 3))  # Output: 8 (calling the lambda function to add two numbers)"
   ]
  },
  {
   "cell_type": "code",
   "execution_count": null,
   "id": "61366113",
   "metadata": {},
   "outputs": [],
   "source": [
    "even_num = lambda num: num % 2 == 0  # Lambda function to check if a number is even\n",
    "print(even_num(4))  # Output: True (4 is even)"
   ]
  },
  {
   "cell_type": "code",
   "execution_count": null,
   "id": "94399cee",
   "metadata": {},
   "outputs": [],
   "source": [
    "## Synatx for Map function\n",
    "map(func_name, list_of_names)"
   ]
  },
  {
   "cell_type": "code",
   "execution_count": null,
   "id": "627bf20c",
   "metadata": {},
   "outputs": [
    {
     "name": "stdout",
     "output_type": "stream",
     "text": [
      "<class 'map'>\n",
      "[1, 4, 9, 16, 25]\n"
     ]
    }
   ],
   "source": [
    "numbers = [1, 2, 3, 4, 5]\n",
    "squared_numbers = map(lambda x: x**2, numbers)  # Using map with a lambda function to square each number\n",
    "print(type(squared_numbers))  # Output: <class 'map'> (squared_numbers is a map object)\n",
    "print(list(squared_numbers))  # Output: [1, 4, 9, 16, 25] (converting the map object to a list for display)"
   ]
  }
 ],
 "metadata": {
  "kernelspec": {
   "display_name": "Python 3",
   "language": "python",
   "name": "python3"
  },
  "language_info": {
   "codemirror_mode": {
    "name": "ipython",
    "version": 3
   },
   "file_extension": ".py",
   "mimetype": "text/x-python",
   "name": "python",
   "nbconvert_exporter": "python",
   "pygments_lexer": "ipython3",
   "version": "3.10.18"
  }
 },
 "nbformat": 4,
 "nbformat_minor": 5
}
