{
 "cells": [
  {
   "cell_type": "code",
   "execution_count": null,
   "id": "935a5e08",
   "metadata": {},
   "outputs": [],
   "source": [
    "## Python is case sensitive\n",
    "\n",
    "name = \"Alice\"\n",
    "Name = \"Bob\"\n",
    "\n",
    "print(name)  # Output: Alice\n",
    "print(Name)  # Output: Bob"
   ]
  },
  {
   "cell_type": "code",
   "execution_count": null,
   "id": "2d3d854a",
   "metadata": {},
   "outputs": [],
   "source": [
    "## To perform multiple operations on a single line, you can use a semicolon\n",
    "x = 5; y = 10; z = x + y;\n",
    "print(z)  # Output: 15"
   ]
  },
  {
   "cell_type": "code",
   "execution_count": null,
   "id": "1ebbdfc9",
   "metadata": {},
   "outputs": [],
   "source": [
    "## Type Inference allows you to assign a value without explicitly declaring its type\n",
    "variable = 42\n",
    "print(type(variable))  # Output: <class 'int'>\n",
    "variable = \"Hello, World!\"\n",
    "print(type(variable))  # Output: <class 'str'>"
   ]
  },
  {
   "cell_type": "code",
   "execution_count": null,
   "id": "9a6a2592",
   "metadata": {},
   "outputs": [],
   "source": [
    "age = input(\"Enter your age: \") ## int(input(\"Enter your age: \")) will convert input to integer directly\n",
    "print(type(age))  # Output: <class 'str'> (input is always a string)\n",
    "\n",
    "## input will defaultly return a string, so you may need to convert it\n",
    "age = int(age)  # Convert to integer\n",
    "print(type(age))  # Output: <class 'int'> (after conversion)"
   ]
  },
  {
   "cell_type": "code",
   "execution_count": null,
   "id": "cb9a0881",
   "metadata": {},
   "outputs": [],
   "source": [
    "bool() \n",
    "a = 5; b=10\n",
    "bool(a > b)  # Output: False\n",
    "bool(a < b)  # Output: True"
   ]
  },
  {
   "cell_type": "markdown",
   "id": "5dbdcf6b",
   "metadata": {},
   "source": [
    "\n",
    "python vs C# on memory management\n",
    "Python: All the objects are stored in heap memory, and its instance will be called in stack memory by creating a frame, \n",
    "Eg. even int/bool/string its object will be craeted in Heap and its instance will be used in stack during execution.\n",
    "\n",
    "C#: \n",
    "Value types: int, bool, double, struct → Stored in stack AND\n",
    "Reference types: string, class, object, array → Stored in heap\n"
   ]
  },
  {
   "cell_type": "code",
   "execution_count": null,
   "id": "5f20c636",
   "metadata": {},
   "outputs": [],
   "source": [
    "## Python is a dynamically typed language, meaning you can change the type of a variable at any time\n",
    "\n",
    "name = 15\n",
    "print(name)  # Output: 15 (name is now an integer)\n",
    "print(type(name))  # Output: <class 'int'> (name is now an integer)\n",
    "\n",
    "name = \"John\"\n",
    "print(name)  # Output: John (name is now a string)\n",
    "print(type(name))  # Output: <class 'str'> (name is now a string"
   ]
  },
  {
   "cell_type": "code",
   "execution_count": null,
   "id": "fd52228e",
   "metadata": {},
   "outputs": [],
   "source": [
    "## Calculator\n",
    "\n",
    "a= 15; b= 3;\n",
    "\n",
    "add = a + b\n",
    "sub = a - b\n",
    "multiply = a * b\n",
    "divide = a / b\n",
    "floorDivide = a // b\n",
    "modulus = a % b\n",
    "power = a ** b\n",
    "\n",
    "print(\"Addition:\", add)  # Output: Addition: 18\n",
    "print(\"Subtraction:\", sub)  # Output: Subtraction: 12\n",
    "print(\"Multiplication:\", multiply)  # Output: Multiplication: 45\n",
    "print(\"Division:\", divide)  # Output: Division: 5.0\n",
    "print(\"Floor Division:\", floorDivide)  # Output: Floor Division: 5\n",
    "print(\"Modulus:\", modulus)  # Output: Modulus: 0\n",
    "print(\"Power:\", power)  # Output: Power: 3375"
   ]
  },
  {
   "cell_type": "markdown",
   "id": "d59d9949",
   "metadata": {},
   "source": [
    "Bitwise Operators"
   ]
  },
  {
   "cell_type": "code",
   "execution_count": null,
   "id": "8d697bfc",
   "metadata": {},
   "outputs": [],
   "source": [
    "num1 = 2; num2 = 2;\n",
    "\n",
    "print(num1 & num2)\n",
    "print(num1 | num2)\n",
    "print(not num2)\n",
    "print(num1 ^ num2)"
   ]
  },
  {
   "cell_type": "markdown",
   "id": "bbe120ce",
   "metadata": {},
   "source": [
    "If Elif and Else"
   ]
  },
  {
   "cell_type": "code",
   "execution_count": null,
   "id": "77ac2e26",
   "metadata": {},
   "outputs": [],
   "source": [
    "age = 76\n",
    "age2 = 45\n",
    "\n",
    "if (age > age2 and age > 40):\n",
    "    print(\"Age is greater than age2\")\n",
    "elif (age < age2):\n",
    "    print(\"Age is less than age2\")\n",
    "else:\n",
    "    print(\"Age is equal to age2\")"
   ]
  },
  {
   "cell_type": "markdown",
   "id": "44e42162",
   "metadata": {},
   "source": [
    "For Loop with Range"
   ]
  },
  {
   "cell_type": "code",
   "execution_count": null,
   "id": "ca5460d8",
   "metadata": {},
   "outputs": [],
   "source": [
    "for i in range(5):\n",
    "    print(i)  # Output: 0, 1, 2, 3, 4\n",
    "\n",
    "for i in range(1, 6):\n",
    "    print(i)  # Output: 1, 2, 3, 4, 5"
   ]
  },
  {
   "cell_type": "code",
   "execution_count": null,
   "id": "2982a638",
   "metadata": {},
   "outputs": [],
   "source": [
    "for i in range(1,11,2):\n",
    "    print(i)  # Output: 1, 3, 5, 7, 9"
   ]
  },
  {
   "cell_type": "code",
   "execution_count": null,
   "id": "fe2235e0",
   "metadata": {},
   "outputs": [],
   "source": [
    "name = \"Rajnesh\"\n",
    "\n",
    "for i in name:\n",
    "    print(i)  # Output: R, a, j, n, e, s, h"
   ]
  },
  {
   "cell_type": "markdown",
   "id": "b0fc0db0",
   "metadata": {},
   "source": [
    "ENUMERATE IN FOR LOOPS"
   ]
  },
  {
   "cell_type": "code",
   "execution_count": null,
   "id": "4a21f6ff",
   "metadata": {},
   "outputs": [],
   "source": [
    "## Enumerate Example\n",
    "name = \"Rajnesh\"\n",
    "for char, index in enumerate(name):\n",
    "    print(f\"Character: {char}, Index: {index}\")  # Output: Character: R, Index: 0, etc.\n",
    "\n",
    "for char, index in enumerate(name, start = 10):\n",
    "    print(f\"Character: {char}, Index: {index}\")  # Output: Character: R, Index: 0, etc."
   ]
  },
  {
   "cell_type": "markdown",
   "id": "034b88ad",
   "metadata": {},
   "source": [
    "List - Is a collection can have different data types"
   ]
  },
  {
   "cell_type": "code",
   "execution_count": null,
   "id": "e0b12796",
   "metadata": {},
   "outputs": [],
   "source": [
    "list_of_names = [\"Alice\", \"Bob\", \"Charlie\"]\n",
    "\n",
    "for index, string in enumerate(list_of_names):\n",
    "    print(f\"Index: {index}, Name: {string}\")  # Output: Index: 0, Name: Alice, etc.\n",
    "    for index, char in enumerate(string):\n",
    "        print(f\"Index: {index}, Name: {char}\")  # Output: Index: 1, Name: Alice, etc."
   ]
  },
  {
   "cell_type": "code",
   "execution_count": null,
   "id": "1431eefd",
   "metadata": {},
   "outputs": [],
   "source": [
    "empty_list = list()  # Creating an empty list\n",
    "print(type(empty_list))  # Output: <class 'list'> (an empty list)"
   ]
  },
  {
   "cell_type": "code",
   "execution_count": null,
   "id": "b51a6151",
   "metadata": {},
   "outputs": [],
   "source": [
    "fruits = [\"apple\", \"banana\", \"cherry\"]\n",
    "\n",
    "fruits.append(\"orange\")  # Add an item to the end of the list\n",
    "print(fruits)  # Output: ['apple', 'banana', 'cherry', 'orange']\n",
    "\n",
    "fruits.insert(1, \"kiwi\")  # Insert an item at a specific position\n",
    "print(fruits)  # Output: ['apple', 'kiwi', 'banana', 'cherry', 'orange']"
   ]
  },
  {
   "cell_type": "code",
   "execution_count": null,
   "id": "2003f30a",
   "metadata": {},
   "outputs": [],
   "source": [
    "fruits.sort()  # Sort the list in ascending order\n",
    "fruits.reverse()  # Reverse the order of the list\n",
    "fruits.clear()  # Clear all items from the list\n",
    "print(fruits)  # Output: []"
   ]
  },
  {
   "cell_type": "markdown",
   "id": "93e5bdc4",
   "metadata": {},
   "source": [
    "List Comprehension -> Dynamically using list which optimize memory"
   ]
  },
  {
   "cell_type": "code",
   "execution_count": null,
   "id": "ee8325bd",
   "metadata": {},
   "outputs": [],
   "source": [
    "sqr_list = [x**2 for x in range(11)]\n",
    "\n",
    "even_num = [x for x in range(11) if x % 2 == 0]  # This line has a syntax error, it should be corrected to:"
   ]
  },
  {
   "cell_type": "markdown",
   "id": "3a90bfef",
   "metadata": {},
   "source": [
    "SETS -> Similar to HashSet"
   ]
  },
  {
   "cell_type": "code",
   "execution_count": null,
   "id": "6c19bde1",
   "metadata": {},
   "outputs": [],
   "source": [
    "sets = set();\n",
    "\n",
    "print(type(sets))  # Output: set() (an empty set)"
   ]
  },
  {
   "cell_type": "code",
   "execution_count": null,
   "id": "606706f5",
   "metadata": {},
   "outputs": [],
   "source": [
    "sets1 = {1, 2, 3, 4, 5}  # Creating a set with initial values\n",
    "print(sets1)  # Output: {1, 2, 3, 4, 5}\n",
    "\n",
    "sets1.add(5)  # Adding an element to the set\n",
    "print(sets1)  # Output: {5} (if 5 was not already in the set)\n",
    "\n",
    "sets1.remove(3)  # Removing an element from the set\n",
    "print(sets1)  # Output: {1, 2, 4, 5} (3 is removed)"
   ]
  },
  {
   "cell_type": "code",
   "execution_count": null,
   "id": "b0bcfde4",
   "metadata": {},
   "outputs": [],
   "source": [
    "sets.add('r')  # Add an item to the set\n",
    "print(sets)  # Output: {'r'} (if 'r' was not already in the set)\n",
    "\n",
    "sets.pop()\n",
    "print(sets)  # Output: set() (removes and returns an arbitrary element from the set)\n",
    "\n",
    "for i in sets1:\n",
    "    print(i)  # Output: 1, 2, 4, 5 (iterating through the set)"
   ]
  },
  {
   "cell_type": "markdown",
   "id": "15096e2b",
   "metadata": {},
   "source": [
    "Dictionary - Key Value Pair\n",
    "\n",
    "Keys are unique and are immutable where as values are mutable"
   ]
  },
  {
   "cell_type": "code",
   "execution_count": null,
   "id": "42482a18",
   "metadata": {},
   "outputs": [],
   "source": [
    "num_dict = {\"one\": 1, \"two\": 2, \"three\": 3}  # Creating a dictionary with key-value pairs\n",
    "print(num_dict)  # Output: {'one': 1, 'two': 2\n",
    "\n",
    "print(num_dict[\"one\"])  # Accessing a value by its key, Output: 1\n",
    "print(num_dict.get(\"two\"))  # Accessing a value using the get method, Output\n"
   ]
  },
  {
   "cell_type": "markdown",
   "id": "a0314743",
   "metadata": {},
   "source": [
    "FOR LOOPS In Dictionary"
   ]
  },
  {
   "cell_type": "code",
   "execution_count": null,
   "id": "7afead59",
   "metadata": {},
   "outputs": [],
   "source": [
    "for key in num_dict.keys():\n",
    "    print(key)  # Output: one, two, three (iterating through keys)"
   ]
  },
  {
   "cell_type": "code",
   "execution_count": null,
   "id": "b4435f5a",
   "metadata": {},
   "outputs": [],
   "source": [
    "for values in num_dict.values():\n",
    "    print(values)  # Output: one, two, three (iterating through keys)"
   ]
  },
  {
   "cell_type": "code",
   "execution_count": null,
   "id": "bdfed02a",
   "metadata": {},
   "outputs": [],
   "source": [
    "for key, value in num_dict.items():\n",
    "    print(f\"Key: {key}, Value: {value}\")  # Output: Key: one, Value: 1, etc."
   ]
  },
  {
   "cell_type": "code",
   "execution_count": null,
   "id": "e03f86b4",
   "metadata": {},
   "outputs": [],
   "source": [
    "num_dict.pop(\"one\")  # Removing a key-value pair by key\n",
    "print(num_dict)  # Output: {'two': 2, 'three': 3}"
   ]
  },
  {
   "cell_type": "code",
   "execution_count": null,
   "id": "01d2b1f7",
   "metadata": {},
   "outputs": [],
   "source": [
    "## Determine the frequency of each character in a string\n",
    "\n",
    "str1 = \"hello world\"\n",
    "dict_str1 = {};\n",
    "\n",
    "for char in str1:\n",
    "    if char in dict_str1:\n",
    "        dict_str1[char] += 1\n",
    "    else:\n",
    "        dict_str1[char] = 1\n",
    "\n",
    "print(dict_str1)  # Output: {'h': 1, 'e': 1, 'l': 3, 'o': 2, ' ': 1, 'w': 1, 'r': 1, 'd': 1}"
   ]
  },
  {
   "cell_type": "markdown",
   "id": "0f91f4c3",
   "metadata": {},
   "source": [
    "Shallow Copy in Dictionary - Important\n",
    "\n",
    "assigning a dict to another dict -> shares same memory"
   ]
  },
  {
   "cell_type": "code",
   "execution_count": null,
   "id": "42d918fb",
   "metadata": {},
   "outputs": [],
   "source": [
    "dict1 = {\"name\": \"Alice\", \"age\": 30, \"city\": \"New York\"}\n",
    "dict2 = dict1 ## direct assignment creates a reference to the same dictionary\n",
    "dict2[\"age\"] = 78  # Modifying dict2 does not affect dict1\n",
    "print(dict1)  # Output: {'name': 'Alice', 'age': 78, 'city': 'New York'}\n",
    "print(dict2)  # Output: {'name': 'Alice', 'age': 78, 'city': 'New York'}"
   ]
  },
  {
   "cell_type": "code",
   "execution_count": null,
   "id": "83be33cf",
   "metadata": {},
   "outputs": [],
   "source": [
    "## Shallow Copy in Dictionary - Important\n",
    "\n",
    "dict1 = {\"name\": \"Alice\", \"age\": 30, \"city\": \"New York\"}\n",
    "dict2 = dict1.copy() # Shallow copy of dict1\n",
    "dict2[\"age\"] = 78  # Modifying dict2 does not affect dict1\n",
    "print(dict1)  # Output: {'name': 'Alice', 'age': 30, 'city': 'New York'}\n",
    "print(dict2)  # Output: {'name': 'Alice', 'age': 78, 'city': 'New York'}"
   ]
  },
  {
   "cell_type": "markdown",
   "id": "79855bb1",
   "metadata": {},
   "source": [
    "Tuples -  similar to list but they are immutable"
   ]
  },
  {
   "cell_type": "code",
   "execution_count": null,
   "id": "d1411d32",
   "metadata": {},
   "outputs": [],
   "source": [
    "empty_tuple = tuple()  # Creating an empty tuple\n",
    "print(type(empty_tuple))  # Output: <class 'tuple'> (an empty tuple)\n",
    "\n",
    "tpl = (1, 2, 3, 4, 5)  # Creating a tuple with initial values\n",
    "print(tpl)  # Output: (1, 2, 3, 4, 5)\n",
    "\n",
    "tp[0] = 10  # Tuples are immutable, this will raise an error\n",
    "print(tp)  # Output: (1, 2, 3, 4, 5) (unchanged, as tuples cannot be modified)\n",
    "\n",
    "lst = [1, 2, 3, 4, 5]  # Creating a list with initial values\n",
    "tpl_from_list = tuple(lst)  # Converting a list to a tuple\n",
    "print(tpl_from_list)  # Output: (1, 2, 3, 4, 5)"
   ]
  },
  {
   "cell_type": "markdown",
   "id": "5796b97c",
   "metadata": {},
   "source": [
    "Functions"
   ]
  },
  {
   "cell_type": "code",
   "execution_count": null,
   "id": "2e83f15b",
   "metadata": {},
   "outputs": [],
   "source": [
    "def func_name():\n",
    "    print(\"Hello, World!\")  # Function definition\n",
    "\n",
    "func_name()  # Calling the function to execute its code"
   ]
  },
  {
   "cell_type": "code",
   "execution_count": null,
   "id": "2b044de1",
   "metadata": {},
   "outputs": [],
   "source": [
    "print(add(2, 3)) ## it wiil raise an error if the function is not defined before this line\n",
    "\n",
    "def add(a, b):\n",
    "    return a + b  # Function to add two numbers\n",
    "\n",
    "print(add(2, 3)) ## it wiil raise an error if the function is not defined before this line"
   ]
  },
  {
   "cell_type": "code",
   "execution_count": null,
   "id": "3533c880",
   "metadata": {},
   "outputs": [],
   "source": [
    "## for list and dictionary comprehensions\n",
    "\n",
    "def func_name(*args, **kwargs):\n",
    "    print(\"Positional arguments:\", args)  # Function definition with *args\n",
    "    print(\"Keyword arguments:\", kwargs)  # Function definition with **kwargs\n",
    "\n",
    "    for num in args:\n",
    "        print(num)\n",
    "    \n",
    "    for key, value in kwargs.items():\n",
    "        print(f\"Key: {key}, Value: {value}\")\n",
    "\n",
    "\n",
    "func_name(1, 2, 3, name=\"Alice\", age=30)  # Calling the function with positional and keyword arguments"
   ]
  },
  {
   "cell_type": "markdown",
   "id": "e3833da2",
   "metadata": {},
   "source": [
    "Lambda Functions in Python"
   ]
  },
  {
   "cell_type": "code",
   "execution_count": null,
   "id": "e3548a3e",
   "metadata": {},
   "outputs": [],
   "source": [
    "## syntax\n",
    "\n",
    "func_name = lambda arguments : operation  # Lambda function definition"
   ]
  },
  {
   "cell_type": "code",
   "execution_count": null,
   "id": "7b6a8c4d",
   "metadata": {},
   "outputs": [],
   "source": [
    "addition = lambda a, b: a + b  # Lambda function to add two numbers\n",
    "print(addition(5, 3))  # Output: 8 (calling the lambda function to add two numbers)"
   ]
  },
  {
   "cell_type": "code",
   "execution_count": null,
   "id": "61366113",
   "metadata": {},
   "outputs": [],
   "source": [
    "even_num = lambda num: num % 2 == 0  # Lambda function to check if a number is even\n",
    "print(even_num(4))  # Output: True (4 is even)"
   ]
  },
  {
   "cell_type": "code",
   "execution_count": null,
   "id": "94399cee",
   "metadata": {},
   "outputs": [],
   "source": [
    "## Synatx for Map function\n",
    "map(func_name, list_of_names)"
   ]
  },
  {
   "cell_type": "code",
   "execution_count": null,
   "id": "627bf20c",
   "metadata": {},
   "outputs": [],
   "source": [
    "numbers = [1, 2, 3, 4, 5]\n",
    "squared_numbers = map(lambda x: x**2, numbers)  # Using map with a lambda function to square each number\n",
    "print(type(squared_numbers))  # Output: <class 'map'> (squared_numbers is a map object)\n",
    "print(list(squared_numbers))  # Output: [1, 4, 9, 16, 25] (converting the map object to a list for display)"
   ]
  },
  {
   "cell_type": "markdown",
   "id": "d27ee02a",
   "metadata": {},
   "source": [
    " Day to day Libraries in Python"
   ]
  },
  {
   "cell_type": "code",
   "execution_count": null,
   "id": "252c90d8",
   "metadata": {},
   "outputs": [],
   "source": [
    "import math as m\n",
    "\n",
    "m.sqrt(16)  # Using the math module to calculate the square root of 16\n",
    "print(m.sqrt(16))  # Output: 4.0 (printing the square root"
   ]
  },
  {
   "cell_type": "markdown",
   "id": "ea947ff2",
   "metadata": {},
   "source": [
    "Numpy"
   ]
  },
  {
   "cell_type": "code",
   "execution_count": null,
   "id": "1eb19969",
   "metadata": {},
   "outputs": [],
   "source": [
    "import numpy as np ## can be used for array manipulation like 1-D, 2-D, etc.\n",
    "\n",
    "np.array([1, 2, 3])  # Creating a NumPy array\n",
    "print(np.array([1, 2, 3]))  # Output: [1 2 3] (printing the NumPy array)\n",
    "\n",
    "print(np.sorted(np.array([3, 1, 2])))  # Output: [1 2 3] (printing the sorted NumPy array)\n",
    "print(np.array([3, 1, 2]).sort())  # Sorting a NumPy array in place\n",
    "\n",
    "np.ones((5, 3))  # Creating a 2D NumPy array filled with ones"
   ]
  },
  {
   "cell_type": "code",
   "execution_count": null,
   "id": "98055cab",
   "metadata": {},
   "outputs": [],
   "source": [
    "##2-D array example\n",
    "array_2d = np.array([[1, 2, 3], [4, 5, 6]])\n",
    "print(array_2d)\n",
    "# Output:\n",
    "# [[1 2 3]\n",
    "\n",
    "array_1d = np.array([1, 2, 3])  # Creating a 1D NumPy array\n",
    "array_1d = array_1d.reshape(3, 1)  # Reshaping the 1D array to a 2D array with 3 rows and 1 column\n",
    "\n",
    "print(array_1d)  # Output: [[1] [2] [3]] (printing the reshaped array)"
   ]
  },
  {
   "cell_type": "code",
   "execution_count": null,
   "id": "db2fb445",
   "metadata": {},
   "outputs": [],
   "source": [
    "np.ones((5, 3))  # Creating a 2D NumPy array filled with ones  \n",
    "\n",
    "## 5 rows and 3 columns of 1\n",
    "\n",
    "print(np.ones((2, 3)))  # Output: [[1. 1. 1.]   (printing a 2D NumPy array filled with ones)"
   ]
  },
  {
   "cell_type": "code",
   "execution_count": null,
   "id": "cf41bc8f",
   "metadata": {},
   "outputs": [],
   "source": [
    "## Vectorication Example\n",
    "vector1 = np.array([1, 2, 3])\n",
    "vector2 = np.array([4, 5, 6])\n",
    "result = vector1 + vector2  # Element-wise addition of two vectors\n",
    "subtract_result = vector2 - vector1  # Element-wise subtraction of two vectors\n",
    "print(result)  # Output: [5 7 9] (printing the result of\n",
    "print(subtract_result)  # Output: [3 3 3] (printing the result of element-wise subtraction)"
   ]
  },
  {
   "cell_type": "code",
   "execution_count": null,
   "id": "034d97d0",
   "metadata": {},
   "outputs": [],
   "source": [
    "## Statistical example - mainly used in ML\n",
    "\n",
    "np.mean([1, 2, 3, 4, 5])  # Calculating the mean of a list of numbers\n",
    "np.median([1, 2, 3, 4, 5])  # Calculating the median of a list of numbers\n",
    "np.std([1, 2, 3, 4, 5])  # Calculating the standard deviation of a list of numbers"
   ]
  },
  {
   "cell_type": "markdown",
   "id": "7256e991",
   "metadata": {},
   "source": [
    "Panda - DataFrame and Series -> Data Analytics\n",
    "\n",
    "Series -> 1D Array like Object\n",
    "\n",
    "DataFrame -> 2D Array which are size-mutable"
   ]
  },
  {
   "cell_type": "code",
   "execution_count": null,
   "id": "6fe3cc61",
   "metadata": {},
   "outputs": [],
   "source": [
    "import pandas as pd  # Importing the pandas library for data manipulation\n",
    "\n",
    "## Series -> Multiple rows of values for a single column\n",
    "\n",
    "series_list = pd.Series([1, 2, 3, 4, 5])  # Creating a pandas Series from a list\n",
    "\n",
    "print(\"\\n\", series_list)  # Output: 0    1, 1    2, 2    3, 3    4, 4    5 (printing the Series created from the list)\n",
    "\n",
    "dict = {\"a\": 1, \"b\": 2, \"c\": 3}  # Creating a dictionary\n",
    "\n",
    "series_dict = pd.Series(dict)  # Creating a pandas Series from a dictionary\n",
    "\n",
    "print(\"\\n\",series_dict)  # Output: a    1, b    2, c    3 (printing the Series created from the dictionary)\n"
   ]
  },
  {
   "cell_type": "code",
   "execution_count": null,
   "id": "0729e205",
   "metadata": {},
   "outputs": [],
   "source": [
    "data = [1,2,3]\n",
    "\n",
    "index = [2,3,4]\n",
    "\n",
    "answer = pd.Series(data, index=index)  # Creating a pandas Series with custom index\n",
    "\n",
    "print(\"\\n\", answer)  # Output: 2    1, 3    2, 4    3 (printing the Series with custom index)"
   ]
  },
  {
   "cell_type": "markdown",
   "id": "045ad054",
   "metadata": {},
   "source": [
    "DataFrame in Panda"
   ]
  },
  {
   "cell_type": "code",
   "execution_count": null,
   "id": "28de8d27",
   "metadata": {},
   "outputs": [],
   "source": [
    "dict = {\n",
    "    \"Name\":[\"Rajnesh\", \"Alice\", \"Bob\"],\n",
    "    \"Age\":[30, 25, 35],\n",
    "    \"City\":[\"New York\", \"Los Angeles\", \"Chicago\"],\n",
    "    \"Country\": [\"India\", \"USA\", \"USA\"]\n",
    "}\n",
    "\n",
    "df = pd.DataFrame(dict)  # Creating a pandas DataFrame from a dictionary\n",
    "print(df)  # Output: DataFrame with columns Name, Age, City, Country (printing the DataFrame created from the dictionary)"
   ]
  },
  {
   "cell_type": "markdown",
   "id": "2a2308ab",
   "metadata": {},
   "source": [
    "Read a CSV File and filter the records by Pandas"
   ]
  },
  {
   "cell_type": "code",
   "execution_count": null,
   "id": "8219c971",
   "metadata": {},
   "outputs": [
    {
     "name": "stdout",
     "output_type": "stream",
     "text": [
      "   Index                                  Name  \\\n",
      "0      1  Compact Printer Air Advanced Digital   \n",
      "1      2                                Tablet   \n",
      "2      3                  Smart Blender Cooker   \n",
      "3      4          Advanced Router Rechargeable   \n",
      "4      5          Portable Mouse Monitor Phone   \n",
      "\n",
      "                                         Description  \\\n",
      "0      Situation organization these memory much off.   \n",
      "1        Discussion loss politics free one thousand.   \n",
      "2                                  No situation per.   \n",
      "3                    For force gas energy six laugh.   \n",
      "4  Feeling back religious however author room sci...   \n",
      "\n",
      "                        Brand            Category  Price Currency  Stock  \\\n",
      "0     Garner, Boyle and Flynn  Books & Stationery    265      USD    774   \n",
      "1                 Mueller Inc    Shoes & Footwear    502      USD     81   \n",
      "2  Lawson, Keller and Winters  Kitchen Appliances    227      USD    726   \n",
      "3          Gallagher and Sons  Kitchen Appliances    121      USD    896   \n",
      "4                   Irwin LLC      Kids' Clothing      1      USD    925   \n",
      "\n",
      "             EAN        Color        Size  Availability  Internal ID  \n",
      "0  2091465262179  ForestGreen       Large     pre_order           56  \n",
      "1  5286196620740        Black     8x10 in      in_stock           29  \n",
      "2  1282898648918    SlateGray          XS      in_stock           70  \n",
      "3  3879177514583    PaleGreen           L  discontinued           31  \n",
      "4  9055773261265     SeaShell  100x200 mm  discontinued           10  \n",
      "    Index                                               Name  \\\n",
      "1       2                                             Tablet   \n",
      "9      10                  Ultra Powerbank Brush Charger Max   \n",
      "12     13                                       Heater Radio   \n",
      "16     17                               Eco Iron Monitor Air   \n",
      "19     20                                         Cooler Fan   \n",
      "21     22              Wireless Powerbank 360 Advanced Ultra   \n",
      "22     23          Rechargeable Lamp Speakerphone Headphones   \n",
      "23     24                            Mini Scooter Microphone   \n",
      "24     25                    Rechargeable Webcam Stove Grill   \n",
      "25     26                       Mini Iron Drone Wireless Pro   \n",
      "27     28                        Wireless Webcam Stove Grill   \n",
      "28     29                                        Clock Brush   \n",
      "29     30                           Keyboard Toaster Monitor   \n",
      "32     33                     Advanced Microphone Cooler Eco   \n",
      "35     36                          Smart Phone Scooter Clean   \n",
      "37     38                  Ultra Dock Trimmer Automatic Edge   \n",
      "38     39  Wireless Tablet Router Printer Wireless Premiu...   \n",
      "39     40               Clean Printer Advanced Premium Sense   \n",
      "41     42                 Ultra Speakerphone Oven Go Smart X   \n",
      "42     43                         Rechargeable Projector Pro   \n",
      "46     47                           Portable Powerbank X Air   \n",
      "47     48                                              Clock   \n",
      "48     49                                    Radio Treadmill   \n",
      "50     51                                 Mini Fridge Camera   \n",
      "51     52             Rechargeable Tablet Plus Portable Mini   \n",
      "53     54              Wireless Light Toaster Lite Touch Eco   \n",
      "56     57                         Ultra Keyboard Compact Eco   \n",
      "57     58             Portable Scale Speaker Powerbank Clean   \n",
      "59     60                Automatic Speaker Router Lamp Prime   \n",
      "61     62                                           Fast Fan   \n",
      "65     66                                          Treadmill   \n",
      "66     67                 Mini Charger Lock Oven Sense Sense   \n",
      "72     73                            Compact Thermostat Oven   \n",
      "74     75                                  Automatic Blender   \n",
      "75     76                    Rechargeable Webcam Dock Heater   \n",
      "79     80                         Rechargeable Brush Compact   \n",
      "84     85                                      Fast Keyboard   \n",
      "86     87                Silent Speakerphone Scanner Monitor   \n",
      "89     90                                    Digital Trimmer   \n",
      "91     92                  Portable Scooter Wireless Digital   \n",
      "\n",
      "                                          Description  \\\n",
      "1         Discussion loss politics free one thousand.   \n",
      "9                  Meeting add economic task outside.   \n",
      "12   Ten do evidence billion perhaps read bank enter.   \n",
      "16   Color single indeed yard event popular food boy.   \n",
      "19                           Fall billion city share.   \n",
      "21     Deal head decade age outside military culture.   \n",
      "22                 Effort own safe main walk quickly.   \n",
      "23               Maybe around expect own whether pay.   \n",
      "24             Movement you Mr decide history effect.   \n",
      "25                                 From Congress low.   \n",
      "27  Pull at improve health also animal forward per...   \n",
      "28  Other another must explain send somebody consi...   \n",
      "29                        My head prove exist change.   \n",
      "32                  Most other newspaper beyond real.   \n",
      "35                 Reality kid create thought window.   \n",
      "37                        Do customer stage act send.   \n",
      "38  North meeting short summer situation positive ...   \n",
      "39         Bag away always often join seat direction.   \n",
      "41                        Value bill yeah tell phone.   \n",
      "42                          Bank everything ago girl.   \n",
      "46          Present court note medical bed red movie.   \n",
      "47                       Onto story what job require.   \n",
      "48                Through choose record prove happen.   \n",
      "50                    Little determine at huge month.   \n",
      "51                         Expect question how sound.   \n",
      "53                 Oil guy table industry hand which.   \n",
      "56      Bit responsibility cover him mean call civil.   \n",
      "57     Throughout special new you view season within.   \n",
      "59      Word score education thousand high treatment.   \n",
      "61              Avoid very final food scene possible.   \n",
      "65                              Vote only run modern.   \n",
      "66                        Major tell him share allow.   \n",
      "72                   Focus that consumer amount half.   \n",
      "74                  Smile human machine section bank.   \n",
      "75  Organization address section collection church...   \n",
      "79              Early century every amount than past.   \n",
      "84                    Success other institution fear.   \n",
      "86  Quality yet significant lawyer face field yet ...   \n",
      "89                        Ago floor nice member wait.   \n",
      "91                         Thousand various evidence.   \n",
      "\n",
      "                              Brand               Category  Price Currency  \\\n",
      "1                       Mueller Inc       Shoes & Footwear    502      USD   \n",
      "9       Brennan, Archer and Rosales      Fitness Equipment    845      USD   \n",
      "12                Delgado-Blackwell                Cycling    689      USD   \n",
      "16                    Barker-Murphy             Automotive    982      USD   \n",
      "19                         Bray LLC            Smartphones    529      USD   \n",
      "21                       Carney Ltd         Bedding & Bath    677      USD   \n",
      "22  Gallegos, Osborne and Carpenter               Skincare    664      USD   \n",
      "23       Douglas, Thornton and Soto         Grooming Tools    784      USD   \n",
      "24                        Horn-Pope      Health & Wellness    900      USD   \n",
      "25                     Khan-Parrish                Cycling    909      USD   \n",
      "27                      Henry Group     Clothing & Apparel    858      USD   \n",
      "28                    Larson-Spence              Furniture    985      USD   \n",
      "29                   Bonilla-Spears         Kids' Clothing    576      USD   \n",
      "32    Morales, Weaver and Fernandez            Smartphones    904      USD   \n",
      "35               Marshall-Dougherty       Women's Clothing    635      USD   \n",
      "37                     Barnes-Glass         Kids' Clothing    640      USD   \n",
      "38                      Meyers-Hess      Sports & Outdoors    781      USD   \n",
      "39                   Williamson PLC               Haircare    913      USD   \n",
      "41        Zimmerman, Barr and Davis        Office Supplies    999      USD   \n",
      "42        Levine, Martin and Mccann             Home Decor    935      USD   \n",
      "46                   Hanson-Schultz       Camping & Hiking    599      USD   \n",
      "47      Malone, Jacobson and Hudson            Team Sports    731      USD   \n",
      "48                    Barron-Little        Office Supplies    511      USD   \n",
      "50                  Decker and Sons      Fitness Equipment    777      USD   \n",
      "51                  Mooney-Gonzales             Fragrances    820      USD   \n",
      "53                    Singleton PLC         Bedding & Bath    791      USD   \n",
      "56                      Pace-Hodges     Books & Stationery    514      USD   \n",
      "57                       Morris LLC       Women's Clothing    689      USD   \n",
      "59      Sexton, Dickerson and Blair         Grooming Tools    621      USD   \n",
      "61                       Ali-Oliver      Cleaning Supplies    982      USD   \n",
      "65   Frost, Christensen and Burnett       Women's Clothing    731      USD   \n",
      "66          Burton, Gross and Giles               Haircare    750      USD   \n",
      "72                         Hull Inc         Home & Kitchen    685      USD   \n",
      "74                    Mahoney-Bryan             Home Decor    630      USD   \n",
      "75                   Kennedy-Gordon                Cycling    800      USD   \n",
      "79                   Castro-Mccarty             Automotive    748      USD   \n",
      "84                        Lewis Ltd       Camping & Hiking    998      USD   \n",
      "86                        Cowan Inc             Fragrances    593      USD   \n",
      "89                 Christian-Tanner    Laptops & Computers    541      USD   \n",
      "91                        Bauer Inc  Cameras & Accessories    519      USD   \n",
      "\n",
      "    Stock            EAN                 Color         Size   Availability  \\\n",
      "1      81  5286196620740                 Black      8x10 in       in_stock   \n",
      "9     564  4877111475333                Silver  Extra Large   discontinued   \n",
      "12    156  5686660235911                Orange            L      pre_order   \n",
      "16     47  7887280730963             OliveDrab           XL   out_of_stock   \n",
      "19    844   267078141619                Bisque           XS      backorder   \n",
      "21    418  3918763032312                 Beige            M   out_of_stock   \n",
      "22    577  1824359393441              DarkBlue            L      pre_order   \n",
      "23    510  9839666739792               DimGray            L      backorder   \n",
      "24    623  6501687247749             PaleGreen       5x7 in   out_of_stock   \n",
      "25    797  9496081864722             CadetBlue          XXL  limited_stock   \n",
      "27    912  7097613907430           LightSalmon     50x70 cm  limited_stock   \n",
      "28    180  8301096575048           SaddleBrown  Extra Large       in_stock   \n",
      "29    988  6639325474032         DarkSlateGray            L      pre_order   \n",
      "32    532  7107438924403             LightCyan  Extra Large  limited_stock   \n",
      "35    727  7883295446066       MediumVioletRed     10x10 cm      backorder   \n",
      "37    780  2837107354495             LightBlue       5x7 in   discontinued   \n",
      "38    947  8247903213713        BlanchedAlmond           XL   out_of_stock   \n",
      "39    820  5234087663802              Moccasin        Small   discontinued   \n",
      "41    853   450118214736          MediumOrchid     12x18 in      pre_order   \n",
      "42     55   655296358115             SlateBlue           XL  limited_stock   \n",
      "46    263  6854117854742              Moccasin        Large   discontinued   \n",
      "47    664  1382809012286           FloralWhite            S  limited_stock   \n",
      "48    395  5461960384619                Violet           XL   discontinued   \n",
      "50    832  4894233116968         PaleGoldenRod  Extra Large       in_stock   \n",
      "51    535  8183922928019                  Cyan   100x200 mm       in_stock   \n",
      "53    827  3057639268476               Fuchsia     50x70 cm       in_stock   \n",
      "56    491  8481605893389             LightGray      8x10 in      backorder   \n",
      "57    332  5175038823985            PowderBlue        Small      backorder   \n",
      "59    667  6744198567221             FireBrick       5x7 in       in_stock   \n",
      "61    804  3388615003133            DarkOrchid   100x200 mm      backorder   \n",
      "65    744  4598541150958                  Cyan       5x7 in   out_of_stock   \n",
      "66    623  9282813513019                 Olive     12x18 in       in_stock   \n",
      "72    747  7695934105636           SaddleBrown     30x40 cm       in_stock   \n",
      "74    438   310774792552  LightGoldenRodYellow      8x10 in      backorder   \n",
      "75    151  1340784358003                 Brown          XXL       in_stock   \n",
      "79    326  6855062072649                Sienna            S   out_of_stock   \n",
      "84     10  3163238295239                  Cyan     50x70 cm  limited_stock   \n",
      "86    580  1710131812265                  Navy          XXL   discontinued   \n",
      "89    488  4147810179628             SteelBlue            M      pre_order   \n",
      "91    495  4564280934296           DeepSkyBlue        Large       in_stock   \n",
      "\n",
      "    Internal ID  \n",
      "1            29  \n",
      "9            88  \n",
      "12           57  \n",
      "16           79  \n",
      "19           22  \n",
      "21           90  \n",
      "22           26  \n",
      "23           55  \n",
      "24           47  \n",
      "25           93  \n",
      "27           43  \n",
      "28           40  \n",
      "29           40  \n",
      "32           86  \n",
      "35           74  \n",
      "37           96  \n",
      "38           69  \n",
      "39           77  \n",
      "41           23  \n",
      "42           52  \n",
      "46           17  \n",
      "47           55  \n",
      "48           14  \n",
      "50           16  \n",
      "51           19  \n",
      "53           64  \n",
      "56           19  \n",
      "57           94  \n",
      "59           61  \n",
      "61           70  \n",
      "65           70  \n",
      "66           81  \n",
      "72           36  \n",
      "74            4  \n",
      "75           66  \n",
      "79           81  \n",
      "84           64  \n",
      "86           20  \n",
      "89           31  \n",
      "91           36  \n",
      "    Index                                               Name  \\\n",
      "9      10                  Ultra Powerbank Brush Charger Max   \n",
      "12     13                                       Heater Radio   \n",
      "19     20                                         Cooler Fan   \n",
      "21     22              Wireless Powerbank 360 Advanced Ultra   \n",
      "22     23          Rechargeable Lamp Speakerphone Headphones   \n",
      "23     24                            Mini Scooter Microphone   \n",
      "24     25                    Rechargeable Webcam Stove Grill   \n",
      "25     26                       Mini Iron Drone Wireless Pro   \n",
      "27     28                        Wireless Webcam Stove Grill   \n",
      "28     29                                        Clock Brush   \n",
      "29     30                           Keyboard Toaster Monitor   \n",
      "32     33                     Advanced Microphone Cooler Eco   \n",
      "35     36                          Smart Phone Scooter Clean   \n",
      "37     38                  Ultra Dock Trimmer Automatic Edge   \n",
      "38     39  Wireless Tablet Router Printer Wireless Premiu...   \n",
      "39     40               Clean Printer Advanced Premium Sense   \n",
      "41     42                 Ultra Speakerphone Oven Go Smart X   \n",
      "46     47                           Portable Powerbank X Air   \n",
      "47     48                                              Clock   \n",
      "48     49                                    Radio Treadmill   \n",
      "50     51                                 Mini Fridge Camera   \n",
      "51     52             Rechargeable Tablet Plus Portable Mini   \n",
      "53     54              Wireless Light Toaster Lite Touch Eco   \n",
      "56     57                         Ultra Keyboard Compact Eco   \n",
      "57     58             Portable Scale Speaker Powerbank Clean   \n",
      "59     60                Automatic Speaker Router Lamp Prime   \n",
      "61     62                                           Fast Fan   \n",
      "65     66                                          Treadmill   \n",
      "66     67                 Mini Charger Lock Oven Sense Sense   \n",
      "72     73                            Compact Thermostat Oven   \n",
      "74     75                                  Automatic Blender   \n",
      "75     76                    Rechargeable Webcam Dock Heater   \n",
      "79     80                         Rechargeable Brush Compact   \n",
      "86     87                Silent Speakerphone Scanner Monitor   \n",
      "89     90                                    Digital Trimmer   \n",
      "91     92                  Portable Scooter Wireless Digital   \n",
      "\n",
      "                                          Description  \\\n",
      "9                  Meeting add economic task outside.   \n",
      "12   Ten do evidence billion perhaps read bank enter.   \n",
      "19                           Fall billion city share.   \n",
      "21     Deal head decade age outside military culture.   \n",
      "22                 Effort own safe main walk quickly.   \n",
      "23               Maybe around expect own whether pay.   \n",
      "24             Movement you Mr decide history effect.   \n",
      "25                                 From Congress low.   \n",
      "27  Pull at improve health also animal forward per...   \n",
      "28  Other another must explain send somebody consi...   \n",
      "29                        My head prove exist change.   \n",
      "32                  Most other newspaper beyond real.   \n",
      "35                 Reality kid create thought window.   \n",
      "37                        Do customer stage act send.   \n",
      "38  North meeting short summer situation positive ...   \n",
      "39         Bag away always often join seat direction.   \n",
      "41                        Value bill yeah tell phone.   \n",
      "46          Present court note medical bed red movie.   \n",
      "47                       Onto story what job require.   \n",
      "48                Through choose record prove happen.   \n",
      "50                    Little determine at huge month.   \n",
      "51                         Expect question how sound.   \n",
      "53                 Oil guy table industry hand which.   \n",
      "56      Bit responsibility cover him mean call civil.   \n",
      "57     Throughout special new you view season within.   \n",
      "59      Word score education thousand high treatment.   \n",
      "61              Avoid very final food scene possible.   \n",
      "65                              Vote only run modern.   \n",
      "66                        Major tell him share allow.   \n",
      "72                   Focus that consumer amount half.   \n",
      "74                  Smile human machine section bank.   \n",
      "75  Organization address section collection church...   \n",
      "79              Early century every amount than past.   \n",
      "86  Quality yet significant lawyer face field yet ...   \n",
      "89                        Ago floor nice member wait.   \n",
      "91                         Thousand various evidence.   \n",
      "\n",
      "                              Brand               Category  Price Currency  \\\n",
      "9       Brennan, Archer and Rosales      Fitness Equipment    845      USD   \n",
      "12                Delgado-Blackwell                Cycling    689      USD   \n",
      "19                         Bray LLC            Smartphones    529      USD   \n",
      "21                       Carney Ltd         Bedding & Bath    677      USD   \n",
      "22  Gallegos, Osborne and Carpenter               Skincare    664      USD   \n",
      "23       Douglas, Thornton and Soto         Grooming Tools    784      USD   \n",
      "24                        Horn-Pope      Health & Wellness    900      USD   \n",
      "25                     Khan-Parrish                Cycling    909      USD   \n",
      "27                      Henry Group     Clothing & Apparel    858      USD   \n",
      "28                    Larson-Spence              Furniture    985      USD   \n",
      "29                   Bonilla-Spears         Kids' Clothing    576      USD   \n",
      "32    Morales, Weaver and Fernandez            Smartphones    904      USD   \n",
      "35               Marshall-Dougherty       Women's Clothing    635      USD   \n",
      "37                     Barnes-Glass         Kids' Clothing    640      USD   \n",
      "38                      Meyers-Hess      Sports & Outdoors    781      USD   \n",
      "39                   Williamson PLC               Haircare    913      USD   \n",
      "41        Zimmerman, Barr and Davis        Office Supplies    999      USD   \n",
      "46                   Hanson-Schultz       Camping & Hiking    599      USD   \n",
      "47      Malone, Jacobson and Hudson            Team Sports    731      USD   \n",
      "48                    Barron-Little        Office Supplies    511      USD   \n",
      "50                  Decker and Sons      Fitness Equipment    777      USD   \n",
      "51                  Mooney-Gonzales             Fragrances    820      USD   \n",
      "53                    Singleton PLC         Bedding & Bath    791      USD   \n",
      "56                      Pace-Hodges     Books & Stationery    514      USD   \n",
      "57                       Morris LLC       Women's Clothing    689      USD   \n",
      "59      Sexton, Dickerson and Blair         Grooming Tools    621      USD   \n",
      "61                       Ali-Oliver      Cleaning Supplies    982      USD   \n",
      "65   Frost, Christensen and Burnett       Women's Clothing    731      USD   \n",
      "66          Burton, Gross and Giles               Haircare    750      USD   \n",
      "72                         Hull Inc         Home & Kitchen    685      USD   \n",
      "74                    Mahoney-Bryan             Home Decor    630      USD   \n",
      "75                   Kennedy-Gordon                Cycling    800      USD   \n",
      "79                   Castro-Mccarty             Automotive    748      USD   \n",
      "86                        Cowan Inc             Fragrances    593      USD   \n",
      "89                 Christian-Tanner    Laptops & Computers    541      USD   \n",
      "91                        Bauer Inc  Cameras & Accessories    519      USD   \n",
      "\n",
      "    Stock            EAN                 Color         Size   Availability  \\\n",
      "9     564  4877111475333                Silver  Extra Large   discontinued   \n",
      "12    156  5686660235911                Orange            L      pre_order   \n",
      "19    844   267078141619                Bisque           XS      backorder   \n",
      "21    418  3918763032312                 Beige            M   out_of_stock   \n",
      "22    577  1824359393441              DarkBlue            L      pre_order   \n",
      "23    510  9839666739792               DimGray            L      backorder   \n",
      "24    623  6501687247749             PaleGreen       5x7 in   out_of_stock   \n",
      "25    797  9496081864722             CadetBlue          XXL  limited_stock   \n",
      "27    912  7097613907430           LightSalmon     50x70 cm  limited_stock   \n",
      "28    180  8301096575048           SaddleBrown  Extra Large       in_stock   \n",
      "29    988  6639325474032         DarkSlateGray            L      pre_order   \n",
      "32    532  7107438924403             LightCyan  Extra Large  limited_stock   \n",
      "35    727  7883295446066       MediumVioletRed     10x10 cm      backorder   \n",
      "37    780  2837107354495             LightBlue       5x7 in   discontinued   \n",
      "38    947  8247903213713        BlanchedAlmond           XL   out_of_stock   \n",
      "39    820  5234087663802              Moccasin        Small   discontinued   \n",
      "41    853   450118214736          MediumOrchid     12x18 in      pre_order   \n",
      "46    263  6854117854742              Moccasin        Large   discontinued   \n",
      "47    664  1382809012286           FloralWhite            S  limited_stock   \n",
      "48    395  5461960384619                Violet           XL   discontinued   \n",
      "50    832  4894233116968         PaleGoldenRod  Extra Large       in_stock   \n",
      "51    535  8183922928019                  Cyan   100x200 mm       in_stock   \n",
      "53    827  3057639268476               Fuchsia     50x70 cm       in_stock   \n",
      "56    491  8481605893389             LightGray      8x10 in      backorder   \n",
      "57    332  5175038823985            PowderBlue        Small      backorder   \n",
      "59    667  6744198567221             FireBrick       5x7 in       in_stock   \n",
      "61    804  3388615003133            DarkOrchid   100x200 mm      backorder   \n",
      "65    744  4598541150958                  Cyan       5x7 in   out_of_stock   \n",
      "66    623  9282813513019                 Olive     12x18 in       in_stock   \n",
      "72    747  7695934105636           SaddleBrown     30x40 cm       in_stock   \n",
      "74    438   310774792552  LightGoldenRodYellow      8x10 in      backorder   \n",
      "75    151  1340784358003                 Brown          XXL       in_stock   \n",
      "79    326  6855062072649                Sienna            S   out_of_stock   \n",
      "86    580  1710131812265                  Navy          XXL   discontinued   \n",
      "89    488  4147810179628             SteelBlue            M      pre_order   \n",
      "91    495  4564280934296           DeepSkyBlue        Large       in_stock   \n",
      "\n",
      "    Internal ID  \n",
      "9            88  \n",
      "12           57  \n",
      "19           22  \n",
      "21           90  \n",
      "22           26  \n",
      "23           55  \n",
      "24           47  \n",
      "25           93  \n",
      "27           43  \n",
      "28           40  \n",
      "29           40  \n",
      "32           86  \n",
      "35           74  \n",
      "37           96  \n",
      "38           69  \n",
      "39           77  \n",
      "41           23  \n",
      "46           17  \n",
      "47           55  \n",
      "48           14  \n",
      "50           16  \n",
      "51           19  \n",
      "53           64  \n",
      "56           19  \n",
      "57           94  \n",
      "59           61  \n",
      "61           70  \n",
      "65           70  \n",
      "66           81  \n",
      "72           36  \n",
      "74            4  \n",
      "75           66  \n",
      "79           81  \n",
      "86           20  \n",
      "89           31  \n",
      "91           36  \n",
      "Smart Blender Cooker\n",
      "No situation per.\n"
     ]
    }
   ],
   "source": [
    "## Read a CSV File and filter the records by Pandas\n",
    "\n",
    "df = pd.read_csv('products-100.csv')  # Reading a CSV file into a pandas DataFrame\n",
    "print(df.head(5))  # Displaying the first 5 rows of the DataFrame\n",
    "\n",
    "## suppose the file is in completely diff directory, you can use the full path to read the file\n",
    "##df = pd.read_csv(r'path of the csv file')\n",
    "\n",
    "## now filter\n",
    "\n",
    "df_filtered = df[df['Price'] >= 500]  # Filtering the DataFrame to include only rows where Price  is greater than 500\n",
    "print(df_filtered)  # Output: DataFrame with filtered records (printing the filtered DataFrame\n",
    "\n",
    "df_filtered = df[(df['Price'] > 500) & (df['Stock'] > 100)]  # Filtering the DataFrame to include only rows where Age is greater than 30\n",
    "print(df_filtered)  # Output: DataFrame with filtered records (printing the filtered DataFrame)\n",
    "\n",
    "\n",
    "## Access a particular row-column value\n",
    "print(df.at[2, 'Name'])  # 2 is index and Name is column name\n",
    "print(df.iat[2, 2])  # 2 is index and 2 is column index (0-based indexing)"
   ]
  },
  {
   "cell_type": "code",
   "execution_count": null,
   "id": "1615d438",
   "metadata": {},
   "outputs": [],
   "source": [
    "import json  ## Conveerting dictionaries to JSON mainly used in API Calls\n",
    "\n",
    "json_data = '{\"name\": \"Alice\", \"age\": 30}'  # JSON string\n",
    "\n",
    "json_object = json.dumps(json_data)  # Converting JSON string to a Python object\n",
    "print(json_object)  # Output: {'name': 'Alice', 'age': 30}\n",
    "\n",
    "print(json.loads(json_object))  # Converting JSON string to a Python object and printing it"
   ]
  },
  {
   "cell_type": "code",
   "execution_count": null,
   "id": "1ae3c0ef",
   "metadata": {},
   "outputs": [],
   "source": [
    "import os  ## Importing the os module for operating system-related functionality\n",
    "\n",
    "os.getcwd()  # Get the current working directory\n",
    "print(os.getcwd())  # Output: Current working directory path"
   ]
  },
  {
   "cell_type": "code",
   "execution_count": null,
   "id": "244950cf",
   "metadata": {},
   "outputs": [],
   "source": [
    "import random ## Importing the random module for generating random numbers\n",
    "\n",
    "random_number = random.randint(1, 10)  # Generating a random integer between 1 and 10\n",
    "print(random_number)  # Output: Random number between 1 and 10"
   ]
  },
  {
   "cell_type": "code",
   "execution_count": null,
   "id": "ab3735a3",
   "metadata": {},
   "outputs": [],
   "source": [
    "import csv ## Importing the csv module for working with CSV files\n",
    "\n",
    "with open('data.csv', mode='w', newline='') as file:\n",
    "    writer = csv.writer(file)  # Creating a CSV writer object\n",
    "    writer.writerow(['Name', 'Age'])  # Writing the header row\n",
    "    writer.writerow(['Alice', 30])  # Writing a data row\n",
    "    writer.writerow(['Bob', 25])  # Writing another data row\n",
    "\n",
    "with open('data.csv', mode='r') as file:\n",
    "    reader = csv.reader(file)  # Creating a CSV reader object\n",
    "    for row in reader:\n",
    "        print(row)  # Output: ['Name', 'Age'], ['Alice', '30'], ['Bob', '25'] (printing each row of the CSV file)"
   ]
  },
  {
   "cell_type": "code",
   "execution_count": null,
   "id": "9a2d22e4",
   "metadata": {},
   "outputs": [],
   "source": [
    "from datetime import datetime, timedelta  ## Importing the datetime module for working with dates and times\n",
    "\n",
    "now = datetime.now()  # Get the current date and time\n",
    "print(now)  # Output: Current date and time (e.g., 2023-10-01 12:34:56.789012)\n",
    "\n",
    "yesterday = now - timedelta(days=1)  # Get the date and time for yesterday\n",
    "print(yesterday)  # Output: Date and time for yesterday (e.g., 2023-09-30 12:34:56.789012)"
   ]
  }
 ],
 "metadata": {
  "kernelspec": {
   "display_name": "Python 3",
   "language": "python",
   "name": "python3"
  },
  "language_info": {
   "codemirror_mode": {
    "name": "ipython",
    "version": 3
   },
   "file_extension": ".py",
   "mimetype": "text/x-python",
   "name": "python",
   "nbconvert_exporter": "python",
   "pygments_lexer": "ipython3",
   "version": "3.10.18"
  }
 },
 "nbformat": 4,
 "nbformat_minor": 5
}
