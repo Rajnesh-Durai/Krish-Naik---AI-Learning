{
 "cells": [
  {
   "cell_type": "code",
   "execution_count": 1,
   "id": "935a5e08",
   "metadata": {},
   "outputs": [
    {
     "name": "stdout",
     "output_type": "stream",
     "text": [
      "Alice\n",
      "Bob\n"
     ]
    }
   ],
   "source": [
    "## Python is case sensitive\n",
    "\n",
    "name = \"Alice\"\n",
    "Name = \"Bob\"\n",
    "\n",
    "print(name)  # Output: Alice\n",
    "print(Name)  # Output: Bob"
   ]
  },
  {
   "cell_type": "code",
   "execution_count": 3,
   "id": "2d3d854a",
   "metadata": {},
   "outputs": [
    {
     "name": "stdout",
     "output_type": "stream",
     "text": [
      "15\n"
     ]
    }
   ],
   "source": [
    "## To perform multiple operations on a single line, you can use a semicolon\n",
    "x = 5; y = 10; z = x + y;\n",
    "print(z)  # Output: 15"
   ]
  },
  {
   "cell_type": "code",
   "execution_count": null,
   "id": "1ebbdfc9",
   "metadata": {},
   "outputs": [],
   "source": [
    "## Type Inference allows you to assign a value without explicitly declaring its type\n",
    "variable = 42\n",
    "print(type(variable))  # Output: <class 'int'>\n",
    "variable = \"Hello, World!\"\n",
    "print(type(variable))  # Output: <class 'str'>"
   ]
  },
  {
   "cell_type": "code",
   "execution_count": 4,
   "id": "9a6a2592",
   "metadata": {},
   "outputs": [
    {
     "name": "stdout",
     "output_type": "stream",
     "text": [
      "<class 'str'>\n",
      "<class 'int'>\n"
     ]
    }
   ],
   "source": [
    "age = input(\"Enter your age: \") ## int(input(\"Enter your age: \")) will convert input to integer directly\n",
    "print(type(age))  # Output: <class 'str'> (input is always a string)\n",
    "\n",
    "## input will defaultly return a string, so you may need to convert it\n",
    "age = int(age)  # Convert to integer\n",
    "print(type(age))  # Output: <class 'int'> (after conversion)"
   ]
  },
  {
   "cell_type": "code",
   "execution_count": 7,
   "id": "cb9a0881",
   "metadata": {},
   "outputs": [
    {
     "data": {
      "text/plain": [
       "True"
      ]
     },
     "execution_count": 7,
     "metadata": {},
     "output_type": "execute_result"
    }
   ],
   "source": [
    "bool() \n",
    "a = 5; b=10\n",
    "bool(a > b)  # Output: False\n",
    "bool(a < b)  # Output: True"
   ]
  },
  {
   "cell_type": "code",
   "execution_count": 1,
   "id": "5dbdcf6b",
   "metadata": {},
   "outputs": [
    {
     "data": {
      "text/plain": [
       "'\\npython vs C# on memory management\\nPython: All the objects are stored in heap memory, and its instance will be called in stack memory by creating a frame, Eg. even int/bool/string its object will be craeted in \\nHeap and its instance will be used in stack during execution.\\n\\nC#: \\nValue types: int, bool, double, struct → Stored in stack\\nReference types: string, class, object, array → Stored in heap\\n\\n'"
      ]
     },
     "execution_count": 1,
     "metadata": {},
     "output_type": "execute_result"
    }
   ],
   "source": [
    "'''\n",
    "python vs C# on memory management\n",
    "Python: All the objects are stored in heap memory, and its instance will be called in stack memory by creating a frame, Eg. even int/bool/string its object will be craeted in \n",
    "Heap and its instance will be used in stack during execution.\n",
    "\n",
    "C#: \n",
    "Value types: int, bool, double, struct → Stored in stack\n",
    "Reference types: string, class, object, array → Stored in heap\n",
    "\n",
    "'''"
   ]
  },
  {
   "cell_type": "code",
   "execution_count": null,
   "id": "5f20c636",
   "metadata": {},
   "outputs": [],
   "source": []
  }
 ],
 "metadata": {
  "kernelspec": {
   "display_name": "Python 3",
   "language": "python",
   "name": "python3"
  },
  "language_info": {
   "codemirror_mode": {
    "name": "ipython",
    "version": 3
   },
   "file_extension": ".py",
   "mimetype": "text/x-python",
   "name": "python",
   "nbconvert_exporter": "python",
   "pygments_lexer": "ipython3",
   "version": "3.10.18"
  }
 },
 "nbformat": 4,
 "nbformat_minor": 5
}
