{
 "cells": [
  {
   "cell_type": "code",
   "execution_count": null,
   "id": "fcc86832",
   "metadata": {},
   "outputs": [],
   "source": [
    "from langchain_community.document_loaders import PyPDFLoader\n",
    "from langchain_text_splitters import RecursiveCharacterTextSplitter as tsp\n",
    "\n",
    "pdf_doc = PyPDFLoader('OperatingSystem.pdf')\n",
    "\n",
    "pdf_doc.load() \n",
    "\n",
    "chunk = tsp(chunk_size=1000, chunk_overlap=200).split_documents(pdf_doc.load())  # Splitting the document into smaller chunks\n",
    "\n",
    "chunk  # Displaying the first chunk of the document"
   ]
  },
  {
   "cell_type": "markdown",
   "id": "419df5bd",
   "metadata": {},
   "source": [
    "HTML Spiltter"
   ]
  },
  {
   "cell_type": "code",
   "execution_count": 10,
   "id": "c24112ac",
   "metadata": {},
   "outputs": [
    {
     "data": {
      "text/plain": [
       "Document(metadata={'Header 1': 'Welcome to My Website'}, page_content='Welcome to My Website')"
      ]
     },
     "execution_count": 10,
     "metadata": {},
     "output_type": "execute_result"
    }
   ],
   "source": [
    "from langchain_text_splitters import HTMLHeaderTextSplitter\n",
    "\n",
    "html_string =\"\"\" \n",
    "<!DOCTYPE html>\n",
    "<html>\n",
    "<head>\n",
    "    <title>Sample HTML</title>\n",
    "</head>\n",
    "<body>\n",
    "    <h1>Welcome to My Website</h1>\n",
    "    <p>This is a sample paragraph with some <strong>bold text</strong> and\n",
    "    <em>italic text</em>.</p>\n",
    "    <p>Here is another paragraph with a <a href=\"https://example.com\">link</a>.</p>\n",
    "</body> \"\"\"\n",
    "\n",
    "\n",
    "html_splitter = [\n",
    "    (\"h1\" ,\"Header 1\"),\n",
    "]\n",
    "\n",
    "html_TextSplitter = HTMLHeaderTextSplitter(html_splitter).split_text(html_string)  # Splitting the HTML string into smaller chunks based on the specified tags\n",
    "html_TextSplitter[0]  # Displaying the split text"
   ]
  }
 ],
 "metadata": {
  "kernelspec": {
   "display_name": "venv",
   "language": "python",
   "name": "python3"
  },
  "language_info": {
   "codemirror_mode": {
    "name": "ipython",
    "version": 3
   },
   "file_extension": ".py",
   "mimetype": "text/x-python",
   "name": "python",
   "nbconvert_exporter": "python",
   "pygments_lexer": "ipython3",
   "version": "3.10.0"
  }
 },
 "nbformat": 4,
 "nbformat_minor": 5
}
