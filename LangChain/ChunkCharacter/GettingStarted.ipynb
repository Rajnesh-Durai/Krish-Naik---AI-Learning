{
 "cells": [
  {
   "cell_type": "code",
   "execution_count": null,
   "id": "fcc86832",
   "metadata": {},
   "outputs": [],
   "source": [
    "from langchain_community.document_loaders import PyPDFLoader\n",
    "from langchain_text_splitters import RecursiveCharacterTextSplitter as tsp\n",
    "\n",
    "pdf_doc = PyPDFLoader('OperatingSystem.pdf')\n",
    "\n",
    "pdf_doc.load() \n",
    "\n",
    "chunk = tsp(chunk_size=1000, chunk_overlap=200).split_documents(pdf_doc.load())  # Splitting the document into smaller chunks\n",
    "\n",
    "chunk  # Displaying the first chunk of the document"
   ]
  }
 ],
 "metadata": {
  "kernelspec": {
   "display_name": "venv",
   "language": "python",
   "name": "python3"
  },
  "language_info": {
   "codemirror_mode": {
    "name": "ipython",
    "version": 3
   },
   "file_extension": ".py",
   "mimetype": "text/x-python",
   "name": "python",
   "nbconvert_exporter": "python",
   "pygments_lexer": "ipython3",
   "version": "3.10.0"
  }
 },
 "nbformat": 4,
 "nbformat_minor": 5
}
